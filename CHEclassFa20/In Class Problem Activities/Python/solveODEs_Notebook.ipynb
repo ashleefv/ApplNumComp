{
  "cells": [
    {
      "cell_type": "markdown",
      "metadata": {
        "id": "i60iBt-56fvZ"
      },
      "source": [
        "# Parallel Reactions in a PFR with Heat Effects\n",
        "The case study in this Jupyter Notebook is adapted from Example 12-5 from Elements of Chemical Reaction Engineering 5th Edition by H. Scott Fogler. This case study models the behavior of parallel reactions in a nonisothermal plug flow reactor (PFR).\n",
        "\n",
        "Code authors: Austin Johns and Dr. Ashlee N. Ford Versypt, ashleefv@buffalo.edu"
      ],
      "id": "i60iBt-56fvZ"
    },
    {
      "cell_type": "markdown",
      "metadata": {
        "id": "C8hhmkjG6fva"
      },
      "source": [
        "## Learning Objectives\n",
        "After completing this lesson, students should be able to \n",
        "\n",
        "* write a Python function to define a system of ODEs\n",
        "* use solve_ivp() to solve a system of ODEs\n",
        "* create plots using Python\n",
        "* model parallel reactions in a PFR with heat effects"
      ],
      "id": "C8hhmkjG6fva"
    },
    {
      "cell_type": "markdown",
      "metadata": {
        "id": "W0SEX-rm6fvb"
      },
      "source": [
        "## Problem Statement\n",
        "$\\require{mhchem}$\n",
        "The following gas-phase reactiors occur in a nonisothermal PFR:\n",
        "    <p> Reaction 1: $\\ce{A ->[k_1] B}$ $\\quad-r_{1A} = k_{1A}C_A$ <br>\n",
        "    <p> Reaction 2: $\\ce{2A ->[k_2] B}$ $\\quad-r_{2A} = k_{2A}C_A^2$ <br>\n",
        "        \n",
        "Pure A is fed at a rate of 100 mol/s, a temperature of 150&deg;C, and a concentration of 0.1 mol/dm<sup>3</sup>. Determine the temperature and molar flow rate profiles down the reactor."
      ],
      "id": "W0SEX-rm6fvb"
    },
    {
      "cell_type": "markdown",
      "metadata": {
        "id": "EoMFW1P-6fvc"
      },
      "source": [
        "### Default parameters and additional information\n",
        "<p>$\\Delta H_{Rx1A} = 20,000 \\;\\text{J/(mol of A reacted in reaction 1)}$<br>\n",
        "<p>$\\Delta H_{Rx2A} = -60,000 \\;\\text{J/(mol of A reacted in reaction 2)}$<br>\n",
        "<p>$C_{P_A} = 90 \\; \\text{J/mol}^{\\circ}\\text{C}$ <br>\n",
        "<p>$C_{P_B} = 90 \\; \\text{J/mol}^{\\circ}\\text{C}$ <br>\n",
        "<p>$C_{P_C} = 180 \\; \\text{J/mol}^{\\circ}\\text{C}$ <br>\n",
        "<p>$U_a = 4000 \\; \\text{J/dm}^3\\text{s}^{\\circ}\\text{C}$<br>\n",
        "<p>$T_a = 100\\;^{\\circ}\\text{C (Constant)}$<br>\n",
        "<p>$\\frac{E_1}{R} = 4000 \\; \\text{K}$<br>\n",
        "<p>$\\frac{E_2}{R} = 9000 \\; \\text{K}$<br>\n",
        "<p>$C_{A_0} = C_{T_0} = 0.1\\;\\frac{\\text{mol}}{\\text{dm}^3}$<br>"
      ],
      "id": "EoMFW1P-6fvc"
    },
    {
      "cell_type": "markdown",
      "metadata": {
        "id": "9ltQ-7ab6fvc"
      },
      "source": [
        "### Explicit equations for the two rate constants\n",
        "<p>$k_{1A} = 10\\exp\\left[\\frac{E_1}{R}\\left(\\frac{1}{300}-\\frac{1}{T}\\right)\\right]\\text{s}^{-1}$<br>\n",
        "<p>$k_{2A} = 0.09\\exp\\left[\\frac{E_2}{R}\\left(\\frac{1}{300}-\\frac{1}{T}\\right)\\right]\\frac{\\text{dm}^3}{\\text{mol s}}$<br>"
      ],
      "id": "9ltQ-7ab6fvc"
    },
    {
      "cell_type": "markdown",
      "metadata": {
        "id": "5jqFbcX56fvd"
      },
      "source": [
        "### Explicit equations related to the stoichiometry of the gas phase (change in pressure is zero)\n",
        "<p>$F_T = F_A + F_B + F_C$<br>\n",
        "<p>$C_A = C_{T_0}\\left(\\frac{F_A}{F_T}\\right)\\left(\\frac{T_0}{T}\\right)$<br>\n",
        "<p>$C_B = C_{T_0}\\left(\\frac{F_B}{F_T}\\right)\\left(\\frac{T_0}{T}\\right)$<br>\n",
        "<p>$C_C = C_{T_0}\\left(\\frac{F_C}{F_T}\\right)\\left(\\frac{T_0}{T}\\right)$<br>"
      ],
      "id": "5jqFbcX56fvd"
    },
    {
      "cell_type": "markdown",
      "metadata": {
        "id": "K31f3Xpp6fvd"
      },
      "source": [
        "### Rate Laws\n",
        "<p>$r_{1A}=-k_{1A}C_A$<br>\n",
        "<p>$r_{2A}=-k_{2A}C_A^2$<br>"
      ],
      "id": "K31f3Xpp6fvd"
    },
    {
      "cell_type": "markdown",
      "metadata": {
        "id": "LnxdItlt6fvd"
      },
      "source": [
        "### Relative rates for each reaction\n",
        "<p>$\\frac{r_{1A}}{-1} = \\frac{r_{1B}}{1}; \\quad r_{1B} = -r_{1A} = k_{1A}C_A$<br>\n",
        "<p>$\\frac{r_{2A}}{-2} = \\frac{r_{2B}}{1}; \\quad r_{2C} = -\\frac{1}{2}r_{2A} = \\frac{k_{2A}}{2}C_A^2$<br>"
      ],
      "id": "LnxdItlt6fvd"
    },
    {
      "cell_type": "markdown",
      "metadata": {
        "id": "TrJF3NK36fvd"
      },
      "source": [
        "###  Net Rates for each species\n",
        "<p>$r_A = r_{1A} + r_{2A} = -k_{1A}C_A-k_{2A}C_A^2$<br>\n",
        "<p>$r_B = r_{1B} = k_{1A}C_A$<br>\n",
        "<p>$r_C = r_{2C} = \\frac{1}{2}k_{2A}C_A^2$<br>"
      ],
      "id": "TrJF3NK36fvd"
    },
    {
      "cell_type": "markdown",
      "metadata": {
        "id": "AjytA3ku6fvd"
      },
      "source": [
        "### Mole Balances\n",
        "<p>$\\frac{dF_A}{dV}=r_A$<br>\n",
        "<p>$\\frac{dF_B}{dV}=r_B$<br>\n",
        "<p>$\\frac{dF_C}{dV}=r_C$<br>"
      ],
      "id": "AjytA3ku6fvd"
    },
    {
      "cell_type": "markdown",
      "metadata": {
        "id": "pe1D9USC6fve"
      },
      "source": [
        "### PFR Energy balance\n",
        "<p>$\\frac{dT}{dV}=\\frac{U_a(T_a-T)\\;+\\;(-r_{1A})(\\Delta H_{Rx1A})\\;+\\;(-r_{2A})(\\Delta H_{Rx2A})}{F_A C_{P_A}\\;+\\;F_B C_{P_B}\\;+\\;F_C C_{P_C}}$<br>"
      ],
      "id": "pe1D9USC6fve"
    },
    {
      "cell_type": "markdown",
      "metadata": {
        "id": "ihfj1X6_6fva"
      },
      "source": [
        "## Import Packages and Functions\n",
        "The following packages need to be imported for solving ODE models, formatting, and plotting results."
      ],
      "id": "ihfj1X6_6fva"
    },
    {
      "cell_type": "code",
      "execution_count": 73,
      "metadata": {
        "id": "-bBFkvLq6fva"
      },
      "outputs": [],
      "source": [
        "import numpy as np\n",
        "from math import exp\n",
        "from scipy.integrate import solve_ivp\n",
        "import matplotlib.pyplot as plt\n",
        "from IPython.display import display, Math, Latex                                                                                                                                                                                             "
      ],
      "id": "-bBFkvLq6fva"
    },
    {
      "cell_type": "markdown",
      "metadata": {
        "id": "1l0mGHki6fvb"
      },
      "source": [
        "## Initial Values\n",
        "Input the range of volume the ODEs will be evaluated across."
      ],
      "id": "1l0mGHki6fvb"
    },
    {
      "cell_type": "code",
      "execution_count": 74,
      "metadata": {
        "id": "eAKr7Jz16fvb"
      },
      "outputs": [],
      "source": [
        "Vmin = 0 \n",
        "Vmax = 1 # dm^3\n",
        "Vspan = np.array([Vmin, Vmax])\n",
        "V_eval = np.linspace(Vmin,Vmax,num=101) # set 101 values on the x-axis for evaluating the solution and plotting the results"
      ],
      "id": "eAKr7Jz16fvb"
    },
    {
      "cell_type": "markdown",
      "metadata": {
        "id": "6n73Coul6fvc"
      },
      "source": [
        "Input the initial values for the dependent variables (molar flow rates and temperature) and consolidate them into one vector."
      ],
      "id": "6n73Coul6fvc"
    },
    {
      "cell_type": "code",
      "execution_count": 75,
      "metadata": {
        "id": "T35as0er6fvc"
      },
      "outputs": [],
      "source": [
        "F_A0 = 100 # mol/s\n",
        "F_B0 = 0 # mol/s\n",
        "F_C0 = 0 # mol/s\n",
        "T0 = 150+273 # deg_K from deg_C\n",
        "initial_values = [F_A0, F_B0, F_C0, T0]"
      ],
      "id": "T35as0er6fvc"
    },
    {
      "cell_type": "markdown",
      "metadata": {
        "id": "ubLOQFdV6fvc"
      },
      "source": [
        "## ODEs Function\n",
        "Define the system of ODEs within a Python function. This will allow us to use solve_ivp() to solve this system of ODEs. The Python fuction cannot be split across multiple code cells."
      ],
      "id": "ubLOQFdV6fvc"
    },
    {
      "cell_type": "code",
      "execution_count": 76,
      "metadata": {
        "id": "d4LKhae26fve"
      },
      "outputs": [],
      "source": [
        "def ODEs(V, y):\n",
        "    # V is the x-axis, independent variable\n",
        "    # y is the y-axis, set of dependent variables\n",
        "    # Extract the molar flow rates and temperature from the y vector passed into the function\n",
        "    F_A = y[0] # mol/s\n",
        "    F_B = y[1] # mol/s\n",
        "    F_C = y[2] # mol/s\n",
        "    T = y[3] # deg_K\n",
        "    \n",
        "    ## Default Parameters\n",
        "    C_T0 = 0.1 # mol/dm^3\n",
        "    T_0 = 150 + 273 # deg_K\n",
        "        \n",
        "    ## Additional information\n",
        "    delta_H_Rx1A = -20000 # J/(mol of A reacted in reaction 1)\n",
        "    delta_H_Rx2A = -60000 # J/(mol of B reacted in reaction 2)\n",
        "    \n",
        "    C_P_A = 90 # J/mol*deg_C\n",
        "    C_P_B = 90 # J/mol*deg_C\n",
        "    C_P_C = 180 # J/mol*deg_C\n",
        "    U_a = 4000 # J/dm^3*s*deg_C\n",
        "    T_a = 100+273 # deg_K (Constant)\n",
        "    \n",
        "    E_1overR = 4000 # K\n",
        "    E_2overR = 9000 # K\n",
        "    \n",
        "    ## Explicit equations for the two rate constants\n",
        "    k_1A = 10*exp((E_1overR)*((1/300)-(1/T)))  # 1/s\n",
        "    k_2A = 0.09*exp((E_2overR)*((1/300)-(1/T))) # dm^3/mol*s\n",
        "    \n",
        "    ## Explicit equations related to the stoichiometry of the gas phase (Change in Pressure is zero)\n",
        "    F_T = F_A + F_B + F_C\n",
        "    C_A = C_T0*(F_A/F_T)*(T_0/T)\n",
        "    C_B = C_T0*(F_B/F_T)*(T_0/T) # Not used\n",
        "    C_C = C_T0*(F_C/F_T)*(T_0/T) # Not used\n",
        "    \n",
        "    ## Rate Laws\n",
        "    r_1A = -k_1A*C_A\n",
        "    r_2A = -k_2A*(C_A**2)\n",
        "    \n",
        "    # Relative rates for each reaction\n",
        "    # Reaction 1\n",
        "    r_1B = -r_1A\n",
        "    # Reaction 2\n",
        "    r_2C = -0.5*r_2A\n",
        "        \n",
        "    # Net Rates for each species\n",
        "    r_A = r_1A + r_2A\n",
        "    r_B = r_1B\n",
        "    r_C = r_2C\n",
        "    \n",
        "    ## Mole Balances\n",
        "    dF_A_dV = r_A\n",
        "    dF_B_dV = r_B\n",
        "    dF_C_dV = r_C\n",
        "    \n",
        "    ## PFR Energy balance\n",
        "    dT_dV = (((U_a*(T_a-T))+((-r_1A)*(-delta_H_Rx1A))+((-r_2A)*(-delta_H_Rx2A)))/((F_A*C_P_A)+(F_B*C_P_B)+(F_C*C_P_C)))\n",
        "    \n",
        "    # Consolidate function output into a single vector and close the function\n",
        "    return  dF_A_dV, dF_B_dV, dF_C_dV, dT_dV"
      ],
      "id": "d4LKhae26fve"
    },
    {
      "cell_type": "markdown",
      "metadata": {
        "id": "2fVW1G276fve"
      },
      "source": [
        "## Solve ODEs\n",
        "Solve the system of ODEs contained in the ODEs function using solve_ivp()."
      ],
      "id": "2fVW1G276fve"
    },
    {
      "cell_type": "code",
      "execution_count": 77,
      "metadata": {
        "id": "5SSZo0sc6fve"
      },
      "outputs": [],
      "source": [
        "solution_output = solve_ivp(ODEs, Vspan, initial_values, t_eval=V_eval)"
      ],
      "id": "5SSZo0sc6fve"
    },
    {
      "cell_type": "markdown",
      "source": [
        "**solve_ivp** is the newer preferred solver for ODE problems. See [this webpage](https://docs.scipy.org/doc/scipy/reference/generated/scipy.integrate.solve_ivp.html#scipy.integrate.solve_ivp) for more details about the function and various methods and options that can be specified."
      ],
      "metadata": {
        "id": "dszIiKX5D8OJ"
      },
      "id": "dszIiKX5D8OJ"
    },
    {
      "cell_type": "markdown",
      "metadata": {
        "id": "UbDitrIp6fvf"
      },
      "source": [
        "### Extract individual solutions from output\n",
        "\n"
      ],
      "id": "UbDitrIp6fvf"
    },
    {
      "cell_type": "code",
      "execution_count": 78,
      "metadata": {
        "id": "LB_XzGOR6fvf"
      },
      "outputs": [],
      "source": [
        "V = solution_output.t\n",
        "F_A_soln = solution_output.y[0,:]\n",
        "F_B_soln = solution_output.y[1,:]\n",
        "F_C_soln = solution_output.y[2,:]\n",
        "T_soln = solution_output.y[3,:]"
      ],
      "id": "LB_XzGOR6fvf"
    },
    {
      "cell_type": "markdown",
      "metadata": {
        "id": "VrMZ37O_6fvf"
      },
      "source": [
        "## Plot Solution\n",
        "Plot the temperature and molar flow rate down the reactor. \n",
        "\n",
        "Note that we have different line styles and colors in the plots. The general plot formatting options are \n",
        "* Colors: black 'k', green 'g', red 'r', blue 'b', magenta 'm',  cyan blue 'c', yellow 'y'.\n",
        "* Line types: '-' solid line, '--' dashed line, '-.' dash-dot line, ':' dotted line.\n",
        "* Colors and line styles can be combined as 'r:' or 'k-.' for a red dotted line or a black dash-dot line.\n",
        "* See this webpage for more details: https://matplotlib.org/2.1.2/api/_as_gen/matplotlib.pyplot.plot.html\n",
        "\n",
        "Using the default parameter values, the expected results are these plots."
      ],
      "id": "VrMZ37O_6fvf"
    },
    {
      "cell_type": "markdown",
      "metadata": {
        "id": "bi2p5NpT6fvf"
      },
      "source": [
        "![expectedresults.PNG](data:image/png;base64,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)"
      ],
      "id": "bi2p5NpT6fvf"
    },
    {
      "cell_type": "markdown",
      "metadata": {
        "id": "JHV1nU1p6fvf"
      },
      "source": [
        "### Plot Temperature versus Volume"
      ],
      "id": "JHV1nU1p6fvf"
    },
    {
      "cell_type": "code",
      "execution_count": 83,
      "metadata": {
        "colab": {
          "base_uri": "https://localhost:8080/",
          "height": 354
        },
        "id": "CWufLFLc6fvg",
        "outputId": "28fc3ad6-92b6-48b1-9ded-a0db5b3c4eec"
      },
      "outputs": [
        {
          "output_type": "display_data",
          "data": {
            "text/plain": [
              "<Figure size 432x360 with 1 Axes>"
            ],
            "image/png": "[encoded data removed]"
          },
          "metadata": {
            "needs_background": "light"
          }
        }
      ],
      "source": [
        "plt.figure(figsize=(6, 5))\n",
        "plt.plot(V, T_soln,'k-')\n",
        "plt.title('Figure 1: Temperature Profile')\n",
        "plt.xlabel('$V\\ (dm^3)$')\n",
        "plt.ylabel('$T\\ (K)$')\n",
        "plt.show()"
      ],
      "id": "CWufLFLc6fvg"
    },
    {
      "cell_type": "markdown",
      "metadata": {
        "id": "YYr7kQhW6fvg"
      },
      "source": [
        "### Plot Molar Flow Rates versus Volume"
      ],
      "id": "YYr7kQhW6fvg"
    },
    {
      "cell_type": "code",
      "execution_count": 81,
      "metadata": {
        "colab": {
          "base_uri": "https://localhost:8080/",
          "height": 356
        },
        "id": "fdd3KQrx6fvh",
        "outputId": "873031e0-7ab4-4e33-9fab-1f17c4db514e"
      },
      "outputs": [
        {
          "output_type": "display_data",
          "data": {
            "text/plain": [
              "<Figure size 432x360 with 1 Axes>"
            ],
            "image/png": "[encoded data removed]"
          },
          "metadata": {
            "needs_background": "light"
          }
        }
      ],
      "source": [
        "plt.figure(figsize=(6, 5))\n",
        "line1, = plt.plot(V, F_A_soln,'b-')\n",
        "line2, = plt.plot(V, F_B_soln, 'r--')\n",
        "line3, = plt.plot(V, F_C_soln, 'k-.')\n",
        "plt.title('Figure 2: Profile of Molar Flow Rates $F_{A}$, $F_{B}$, and $F_{C}$')\n",
        "plt.legend((line1, line2, line3), ('$F_A$', '$F_B$', '$F_C$'))\n",
        "plt.xlabel('$V\\ (dm^3)$')\n",
        "plt.ylabel('$F_{i} \\ (mol/s)$')\n",
        "plt.show()"
      ],
      "id": "fdd3KQrx6fvh"
    },
    {
      "cell_type": "markdown",
      "metadata": {
        "id": "Z1pWBpFz6fvh"
      },
      "source": [
        "## Reflection Questions\n",
        "* Why are two plots helpful for displaying the results?\n",
        "* Do the plots match the expected behavior of a PFR?\n",
        "* Did you perform a dimensional analysis to ensure the given parameters' units and the solution's units match?\n",
        "* Reduce the value of num in V_eval. Note that it must be an integer value. At approximately what value of num do the plots start to no longer look smooth (straight lines are drawn connecting adjacent evaluation points)?\n",
        "* Explore changing line styles, colors. Are any of the options more visually appealing to you?"
      ],
      "id": "Z1pWBpFz6fvh"
    }
  ],
  "metadata": {
    "kernelspec": {
      "display_name": "Python 3",
      "language": "python",
      "name": "python3"
    },
    "language_info": {
      "codemirror_mode": {
        "name": "ipython",
        "version": 3
      },
      "file_extension": ".py",
      "mimetype": "text/x-python",
      "name": "python",
      "nbconvert_exporter": "python",
      "pygments_lexer": "ipython3",
      "version": "3.8.5"
    },
    "colab": {
      "name": "solveODEs_Notebook.ipynb",
      "provenance": [],
      "collapsed_sections": [],
      "toc_visible": true
    }
  },
  "nbformat": 4,
  "nbformat_minor": 5
}